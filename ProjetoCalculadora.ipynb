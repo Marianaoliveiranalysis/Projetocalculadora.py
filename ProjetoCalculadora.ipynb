{
  "nbformat": 4,
  "nbformat_minor": 0,
  "metadata": {
    "colab": {
      "provenance": [],
      "authorship_tag": "ABX9TyOI5vf0CI3rUN30U8RuyQb3",
      "include_colab_link": true
    },
    "kernelspec": {
      "name": "python3",
      "display_name": "Python 3"
    },
    "language_info": {
      "name": "python"
    }
  },
  "cells": [
    {
      "cell_type": "markdown",
      "metadata": {
        "id": "view-in-github",
        "colab_type": "text"
      },
      "source": [
        "<a href=\"https://colab.research.google.com/github/Marianaoliveiranalysis/Projetocalculadora.py/blob/main/ProjetoCalculadora.ipynb\" target=\"_parent\"><img src=\"https://colab.research.google.com/assets/colab-badge.svg\" alt=\"Open In Colab\"/></a>"
      ]
    },
    {
      "cell_type": "code",
      "execution_count": null,
      "metadata": {
        "id": "Cf9QDN2PBwbd"
      },
      "outputs": [],
      "source": [
        "num1 = int(input(\"Digite o primeiro Numero \"))\n",
        "operacao = input(\"Digite uma operacao\")\n",
        "num2 = int(input(\"Digite o segundo Numero \"))"
      ]
    },
    {
      "cell_type": "code",
      "source": [
        " if operacao == \"+\":\n",
        "  resultado = num1 + num2\n",
        "  print(resultado)\n",
        "\n",
        "  elif operacao == \"-\":\n",
        "    resultado == \"num1 - num2\"\n",
        "    print(resultado)\n",
        "\n",
        "    elif operacao == \"*\":\n",
        "      resultado == \"num1 * num2\"\n",
        "      print(resultado)\n",
        "\n",
        "      elif operacao == \"//\":\n",
        "        resultado == \"num1 // num2\"\n",
        "        print(resultado)\n",
        "        else:\n",
        "          print(\"Operacao invalida\")\n"
      ],
      "metadata": {
        "colab": {
          "base_uri": "https://localhost:8080/",
          "height": 106
        },
        "id": "_IQphpEEI2pq",
        "outputId": "54cec4c5-06a4-4c88-b903-36adc703c74b"
      },
      "execution_count": null,
      "outputs": [
        {
          "output_type": "error",
          "ename": "SyntaxError",
          "evalue": "incomplete input (<ipython-input-6-e1ea2effae0f>, line 1)",
          "traceback": [
            "\u001b[0;36m  File \u001b[0;32m\"<ipython-input-6-e1ea2effae0f>\"\u001b[0;36m, line \u001b[0;32m1\u001b[0m\n\u001b[0;31m    if operacao == \"+\":\u001b[0m\n\u001b[0m                       ^\u001b[0m\n\u001b[0;31mSyntaxError\u001b[0m\u001b[0;31m:\u001b[0m incomplete input\n"
          ]
        }
      ]
    },
    {
      "cell_type": "code",
      "source": [
        "\n"
      ],
      "metadata": {
        "id": "Zd5whluNPOmC"
      },
      "execution_count": null,
      "outputs": []
    }
  ]
}